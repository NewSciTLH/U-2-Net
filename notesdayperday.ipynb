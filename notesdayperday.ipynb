{
 "cells": [
  {
   "cell_type": "markdown",
   "metadata": {},
   "source": [
    "'divvyup-data/newsci_dump-02082019.json' contains a json with one to one and many to one images\n",
    "gs://newsci-lab-data/divvyup-json/mask_updates.csv contains mask that were reconciled by us, and we can trust\n",
    "    can we run a u2net on them?\n",
    "    can we run a u2net on them with pix2pix?\n",
    "    "
   ]
  },
  {
   "cell_type": "code",
   "execution_count": 1,
   "metadata": {},
   "outputs": [],
   "source": [
    "import pandas as pd\n",
    "\n",
    "file = pd.read_csv('mask_updates.csv')    "
   ]
  },
  {
   "cell_type": "code",
   "execution_count": 2,
   "metadata": {},
   "outputs": [
    {
     "data": {
      "text/html": [
       "<div>\n",
       "<style scoped>\n",
       "    .dataframe tbody tr th:only-of-type {\n",
       "        vertical-align: middle;\n",
       "    }\n",
       "\n",
       "    .dataframe tbody tr th {\n",
       "        vertical-align: top;\n",
       "    }\n",
       "\n",
       "    .dataframe thead th {\n",
       "        text-align: right;\n",
       "    }\n",
       "</style>\n",
       "<table border=\"1\" class=\"dataframe\">\n",
       "  <thead>\n",
       "    <tr style=\"text-align: right;\">\n",
       "      <th></th>\n",
       "      <th>mask_of_subjects_face</th>\n",
       "      <th>order_id</th>\n",
       "      <th>line_item_id</th>\n",
       "      <th>mask_quality</th>\n",
       "      <th>subject_class</th>\n",
       "      <th>number_of_heads</th>\n",
       "    </tr>\n",
       "  </thead>\n",
       "  <tbody>\n",
       "    <tr>\n",
       "      <th>0</th>\n",
       "      <td>/refined_masks/mask_images3/mask_images2/14389...</td>\n",
       "      <td>20263</td>\n",
       "      <td>143893</td>\n",
       "      <td>good</td>\n",
       "      <td>dog</td>\n",
       "      <td>1</td>\n",
       "    </tr>\n",
       "    <tr>\n",
       "      <th>1</th>\n",
       "      <td>/refined_masks/mask_images3/mask_images2/14389...</td>\n",
       "      <td>20265</td>\n",
       "      <td>143895</td>\n",
       "      <td>good</td>\n",
       "      <td>dog</td>\n",
       "      <td>1</td>\n",
       "    </tr>\n",
       "    <tr>\n",
       "      <th>2</th>\n",
       "      <td>/refined_masks/mask_images3/mask_images2/14389...</td>\n",
       "      <td>20268</td>\n",
       "      <td>143896</td>\n",
       "      <td>good</td>\n",
       "      <td>dog</td>\n",
       "      <td>1</td>\n",
       "    </tr>\n",
       "    <tr>\n",
       "      <th>3</th>\n",
       "      <td>/refined_masks/mask_images3/mask_images2/14389...</td>\n",
       "      <td>20270</td>\n",
       "      <td>143897</td>\n",
       "      <td>bad</td>\n",
       "      <td>dog</td>\n",
       "      <td>1</td>\n",
       "    </tr>\n",
       "    <tr>\n",
       "      <th>4</th>\n",
       "      <td>/refined_masks/mask_images3/mask_images2/14390...</td>\n",
       "      <td>20273</td>\n",
       "      <td>143900</td>\n",
       "      <td>good</td>\n",
       "      <td>cat</td>\n",
       "      <td>1</td>\n",
       "    </tr>\n",
       "  </tbody>\n",
       "</table>\n",
       "</div>"
      ],
      "text/plain": [
       "                               mask_of_subjects_face  order_id  line_item_id  \\\n",
       "0  /refined_masks/mask_images3/mask_images2/14389...     20263        143893   \n",
       "1  /refined_masks/mask_images3/mask_images2/14389...     20265        143895   \n",
       "2  /refined_masks/mask_images3/mask_images2/14389...     20268        143896   \n",
       "3  /refined_masks/mask_images3/mask_images2/14389...     20270        143897   \n",
       "4  /refined_masks/mask_images3/mask_images2/14390...     20273        143900   \n",
       "\n",
       "  mask_quality subject_class  number_of_heads  \n",
       "0         good           dog                1  \n",
       "1         good           dog                1  \n",
       "2         good           dog                1  \n",
       "3          bad           dog                1  \n",
       "4         good           cat                1  "
      ]
     },
     "execution_count": 2,
     "metadata": {},
     "output_type": "execute_result"
    }
   ],
   "source": [
    "file.head()"
   ]
  },
  {
   "cell_type": "code",
   "execution_count": 3,
   "metadata": {},
   "outputs": [],
   "source": [
    "good = file[file.mask_quality=='good']"
   ]
  },
  {
   "cell_type": "code",
   "execution_count": 4,
   "metadata": {},
   "outputs": [
    {
     "data": {
      "text/html": [
       "<div>\n",
       "<style scoped>\n",
       "    .dataframe tbody tr th:only-of-type {\n",
       "        vertical-align: middle;\n",
       "    }\n",
       "\n",
       "    .dataframe tbody tr th {\n",
       "        vertical-align: top;\n",
       "    }\n",
       "\n",
       "    .dataframe thead th {\n",
       "        text-align: right;\n",
       "    }\n",
       "</style>\n",
       "<table border=\"1\" class=\"dataframe\">\n",
       "  <thead>\n",
       "    <tr style=\"text-align: right;\">\n",
       "      <th></th>\n",
       "      <th>order_id</th>\n",
       "      <th>line_item_id</th>\n",
       "      <th>number_of_heads</th>\n",
       "    </tr>\n",
       "  </thead>\n",
       "  <tbody>\n",
       "    <tr>\n",
       "      <th>count</th>\n",
       "      <td>2825.000000</td>\n",
       "      <td>2825.000000</td>\n",
       "      <td>2825.000000</td>\n",
       "    </tr>\n",
       "    <tr>\n",
       "      <th>mean</th>\n",
       "      <td>24226.029735</td>\n",
       "      <td>146773.384071</td>\n",
       "      <td>1.014867</td>\n",
       "    </tr>\n",
       "    <tr>\n",
       "      <th>std</th>\n",
       "      <td>2372.631124</td>\n",
       "      <td>1666.266034</td>\n",
       "      <td>0.154461</td>\n",
       "    </tr>\n",
       "    <tr>\n",
       "      <th>min</th>\n",
       "      <td>20263.000000</td>\n",
       "      <td>143893.000000</td>\n",
       "      <td>0.000000</td>\n",
       "    </tr>\n",
       "    <tr>\n",
       "      <th>25%</th>\n",
       "      <td>22200.000000</td>\n",
       "      <td>145324.000000</td>\n",
       "      <td>1.000000</td>\n",
       "    </tr>\n",
       "    <tr>\n",
       "      <th>50%</th>\n",
       "      <td>24221.000000</td>\n",
       "      <td>146811.000000</td>\n",
       "      <td>1.000000</td>\n",
       "    </tr>\n",
       "    <tr>\n",
       "      <th>75%</th>\n",
       "      <td>26179.000000</td>\n",
       "      <td>148189.000000</td>\n",
       "      <td>1.000000</td>\n",
       "    </tr>\n",
       "    <tr>\n",
       "      <th>max</th>\n",
       "      <td>42819.000000</td>\n",
       "      <td>149631.000000</td>\n",
       "      <td>4.000000</td>\n",
       "    </tr>\n",
       "  </tbody>\n",
       "</table>\n",
       "</div>"
      ],
      "text/plain": [
       "           order_id   line_item_id  number_of_heads\n",
       "count   2825.000000    2825.000000      2825.000000\n",
       "mean   24226.029735  146773.384071         1.014867\n",
       "std     2372.631124    1666.266034         0.154461\n",
       "min    20263.000000  143893.000000         0.000000\n",
       "25%    22200.000000  145324.000000         1.000000\n",
       "50%    24221.000000  146811.000000         1.000000\n",
       "75%    26179.000000  148189.000000         1.000000\n",
       "max    42819.000000  149631.000000         4.000000"
      ]
     },
     "execution_count": 4,
     "metadata": {},
     "output_type": "execute_result"
    }
   ],
   "source": [
    "good.describe()"
   ]
  },
  {
   "cell_type": "code",
   "execution_count": 5,
   "metadata": {},
   "outputs": [
    {
     "data": {
      "text/html": [
       "<div>\n",
       "<style scoped>\n",
       "    .dataframe tbody tr th:only-of-type {\n",
       "        vertical-align: middle;\n",
       "    }\n",
       "\n",
       "    .dataframe tbody tr th {\n",
       "        vertical-align: top;\n",
       "    }\n",
       "\n",
       "    .dataframe thead th {\n",
       "        text-align: right;\n",
       "    }\n",
       "</style>\n",
       "<table border=\"1\" class=\"dataframe\">\n",
       "  <thead>\n",
       "    <tr style=\"text-align: right;\">\n",
       "      <th></th>\n",
       "      <th>mask_of_subjects_face</th>\n",
       "      <th>order_id</th>\n",
       "      <th>line_item_id</th>\n",
       "      <th>mask_quality</th>\n",
       "      <th>subject_class</th>\n",
       "      <th>number_of_heads</th>\n",
       "    </tr>\n",
       "  </thead>\n",
       "  <tbody>\n",
       "    <tr>\n",
       "      <th>0</th>\n",
       "      <td>/refined_masks/mask_images3/mask_images2/14389...</td>\n",
       "      <td>20263</td>\n",
       "      <td>143893</td>\n",
       "      <td>good</td>\n",
       "      <td>dog</td>\n",
       "      <td>1</td>\n",
       "    </tr>\n",
       "    <tr>\n",
       "      <th>1</th>\n",
       "      <td>/refined_masks/mask_images3/mask_images2/14389...</td>\n",
       "      <td>20265</td>\n",
       "      <td>143895</td>\n",
       "      <td>good</td>\n",
       "      <td>dog</td>\n",
       "      <td>1</td>\n",
       "    </tr>\n",
       "    <tr>\n",
       "      <th>2</th>\n",
       "      <td>/refined_masks/mask_images3/mask_images2/14389...</td>\n",
       "      <td>20268</td>\n",
       "      <td>143896</td>\n",
       "      <td>good</td>\n",
       "      <td>dog</td>\n",
       "      <td>1</td>\n",
       "    </tr>\n",
       "    <tr>\n",
       "      <th>4</th>\n",
       "      <td>/refined_masks/mask_images3/mask_images2/14390...</td>\n",
       "      <td>20273</td>\n",
       "      <td>143900</td>\n",
       "      <td>good</td>\n",
       "      <td>cat</td>\n",
       "      <td>1</td>\n",
       "    </tr>\n",
       "    <tr>\n",
       "      <th>5</th>\n",
       "      <td>/refined_masks/mask_images3/mask_images2/14390...</td>\n",
       "      <td>20275</td>\n",
       "      <td>143902</td>\n",
       "      <td>good</td>\n",
       "      <td>human</td>\n",
       "      <td>1</td>\n",
       "    </tr>\n",
       "  </tbody>\n",
       "</table>\n",
       "</div>"
      ],
      "text/plain": [
       "                               mask_of_subjects_face  order_id  line_item_id  \\\n",
       "0  /refined_masks/mask_images3/mask_images2/14389...     20263        143893   \n",
       "1  /refined_masks/mask_images3/mask_images2/14389...     20265        143895   \n",
       "2  /refined_masks/mask_images3/mask_images2/14389...     20268        143896   \n",
       "4  /refined_masks/mask_images3/mask_images2/14390...     20273        143900   \n",
       "5  /refined_masks/mask_images3/mask_images2/14390...     20275        143902   \n",
       "\n",
       "  mask_quality subject_class  number_of_heads  \n",
       "0         good           dog                1  \n",
       "1         good           dog                1  \n",
       "2         good           dog                1  \n",
       "4         good           cat                1  \n",
       "5         good         human                1  "
      ]
     },
     "execution_count": 5,
     "metadata": {},
     "output_type": "execute_result"
    }
   ],
   "source": [
    "good.head()"
   ]
  },
  {
   "cell_type": "code",
   "execution_count": 7,
   "metadata": {},
   "outputs": [
    {
     "data": {
      "text/plain": [
       "'/refined_masks/mask_images3/mask_images2/143893-20263-1539886090-84-1034e34e-75fe-4346-adc8-485ece94df1d.npy'"
      ]
     },
     "execution_count": 7,
     "metadata": {},
     "output_type": "execute_result"
    }
   ],
   "source": [
    "good.mask_of_subjects_face[0]"
   ]
  },
  {
   "cell_type": "code",
   "execution_count": null,
   "metadata": {},
   "outputs": [],
   "source": [
    "On divvyup-data/line/orderid/cropped we can find the rgb files.\n",
    "We grab them and test u2net on it."
   ]
  },
  {
   "cell_type": "code",
   "execution_count": null,
   "metadata": {},
   "outputs": [],
   "source": []
  },
  {
   "cell_type": "code",
   "execution_count": null,
   "metadata": {},
   "outputs": [],
   "source": []
  },
  {
   "cell_type": "code",
   "execution_count": null,
   "metadata": {},
   "outputs": [],
   "source": []
  },
  {
   "cell_type": "code",
   "execution_count": null,
   "metadata": {},
   "outputs": [],
   "source": []
  },
  {
   "cell_type": "code",
   "execution_count": 11,
   "metadata": {},
   "outputs": [],
   "source": [
    "json = pd.read_json('newsci_dump-02082019.json', dtype=True)"
   ]
  },
  {
   "cell_type": "code",
   "execution_count": 12,
   "metadata": {},
   "outputs": [
    {
     "data": {
      "text/html": [
       "<div>\n",
       "<style scoped>\n",
       "    .dataframe tbody tr th:only-of-type {\n",
       "        vertical-align: middle;\n",
       "    }\n",
       "\n",
       "    .dataframe tbody tr th {\n",
       "        vertical-align: top;\n",
       "    }\n",
       "\n",
       "    .dataframe thead th {\n",
       "        text-align: right;\n",
       "    }\n",
       "</style>\n",
       "<table border=\"1\" class=\"dataframe\">\n",
       "  <thead>\n",
       "    <tr style=\"text-align: right;\">\n",
       "      <th></th>\n",
       "      <th>numPhotos</th>\n",
       "      <th>numHeads</th>\n",
       "      <th>data</th>\n",
       "    </tr>\n",
       "  </thead>\n",
       "  <tbody>\n",
       "    <tr>\n",
       "      <th>0</th>\n",
       "      <td>409354</td>\n",
       "      <td>424575</td>\n",
       "      <td>{'order_id': 142372, 'line_items': [{'line_ite...</td>\n",
       "    </tr>\n",
       "    <tr>\n",
       "      <th>1</th>\n",
       "      <td>409354</td>\n",
       "      <td>424575</td>\n",
       "      <td>{'order_id': 142373, 'line_items': [{'line_ite...</td>\n",
       "    </tr>\n",
       "    <tr>\n",
       "      <th>2</th>\n",
       "      <td>409354</td>\n",
       "      <td>424575</td>\n",
       "      <td>{'order_id': 142374, 'line_items': [{'line_ite...</td>\n",
       "    </tr>\n",
       "    <tr>\n",
       "      <th>3</th>\n",
       "      <td>409354</td>\n",
       "      <td>424575</td>\n",
       "      <td>{'order_id': 142375, 'line_items': [{'line_ite...</td>\n",
       "    </tr>\n",
       "    <tr>\n",
       "      <th>4</th>\n",
       "      <td>409354</td>\n",
       "      <td>424575</td>\n",
       "      <td>{'order_id': 142377, 'line_items': [{'line_ite...</td>\n",
       "    </tr>\n",
       "  </tbody>\n",
       "</table>\n",
       "</div>"
      ],
      "text/plain": [
       "   numPhotos  numHeads                                               data\n",
       "0     409354    424575  {'order_id': 142372, 'line_items': [{'line_ite...\n",
       "1     409354    424575  {'order_id': 142373, 'line_items': [{'line_ite...\n",
       "2     409354    424575  {'order_id': 142374, 'line_items': [{'line_ite...\n",
       "3     409354    424575  {'order_id': 142375, 'line_items': [{'line_ite...\n",
       "4     409354    424575  {'order_id': 142377, 'line_items': [{'line_ite..."
      ]
     },
     "execution_count": 12,
     "metadata": {},
     "output_type": "execute_result"
    }
   ],
   "source": [
    "json.head()"
   ]
  },
  {
   "cell_type": "code",
   "execution_count": 13,
   "metadata": {},
   "outputs": [
    {
     "data": {
      "text/plain": [
       "{'order_id': 142372,\n",
       " 'line_items': [{'line_item_id': 18186,\n",
       "   'original_photos': ['142372/1539646443-68-img-0299.jpg',\n",
       "    '142372/1539646443-63-img-20150315-153534.jpg',\n",
       "    '142372/1539646443-68-pippy.png'],\n",
       "   'approved_cropped_heads': ['142372/18186/cropped/30871',\n",
       "    '142372/18186/cropped/30872',\n",
       "    '142372/18186/cropped/30873']},\n",
       "  {'line_item_id': 18187,\n",
       "   'original_photos': ['142372/1539647680-19-img-0299.jpg',\n",
       "    '142372/1539647680-34-img-20150315-153534.jpg',\n",
       "    '142372/1539647680-4-pippy.png'],\n",
       "   'approved_cropped_heads': ['142372/18187/cropped/30875',\n",
       "    '142372/18187/cropped/30876',\n",
       "    '142372/18187/cropped/30878']}]}"
      ]
     },
     "execution_count": 13,
     "metadata": {},
     "output_type": "execute_result"
    }
   ],
   "source": [
    "json.data[0]"
   ]
  },
  {
   "cell_type": "code",
   "execution_count": 43,
   "metadata": {},
   "outputs": [],
   "source": [
    "import json\n",
    "# load data using Python JSON module\n",
    "with open('newsci_dump-02082019.json','r') as f:\n",
    "    stuff = json.loads(f.read())\n",
    "# Flatten data\n",
    "df_nested_list = pd.json_normalize(stuff, record_path =['data','line_items'])# we ignore order id"
   ]
  },
  {
   "cell_type": "code",
   "execution_count": 44,
   "metadata": {},
   "outputs": [
    {
     "data": {
      "text/html": [
       "<div>\n",
       "<style scoped>\n",
       "    .dataframe tbody tr th:only-of-type {\n",
       "        vertical-align: middle;\n",
       "    }\n",
       "\n",
       "    .dataframe tbody tr th {\n",
       "        vertical-align: top;\n",
       "    }\n",
       "\n",
       "    .dataframe thead th {\n",
       "        text-align: right;\n",
       "    }\n",
       "</style>\n",
       "<table border=\"1\" class=\"dataframe\">\n",
       "  <thead>\n",
       "    <tr style=\"text-align: right;\">\n",
       "      <th></th>\n",
       "      <th>line_item_id</th>\n",
       "      <th>original_photos</th>\n",
       "      <th>approved_cropped_heads</th>\n",
       "    </tr>\n",
       "  </thead>\n",
       "  <tbody>\n",
       "    <tr>\n",
       "      <th>0</th>\n",
       "      <td>18186</td>\n",
       "      <td>[142372/1539646443-68-img-0299.jpg, 142372/153...</td>\n",
       "      <td>[142372/18186/cropped/30871, 142372/18186/crop...</td>\n",
       "    </tr>\n",
       "    <tr>\n",
       "      <th>1</th>\n",
       "      <td>18187</td>\n",
       "      <td>[142372/1539647680-19-img-0299.jpg, 142372/153...</td>\n",
       "      <td>[142372/18187/cropped/30875, 142372/18187/crop...</td>\n",
       "    </tr>\n",
       "    <tr>\n",
       "      <th>2</th>\n",
       "      <td>18188</td>\n",
       "      <td>[142373/1539648052-25-e4876618-3ddb-4da2-905a-...</td>\n",
       "      <td>[142373/18188/cropped/30865]</td>\n",
       "    </tr>\n",
       "    <tr>\n",
       "      <th>3</th>\n",
       "      <td>18189</td>\n",
       "      <td>[142374/1539648041-56-d5fde5db-87c2-42b6-b06a-...</td>\n",
       "      <td>[142374/18189/cropped/30869]</td>\n",
       "    </tr>\n",
       "    <tr>\n",
       "      <th>4</th>\n",
       "      <td>18190</td>\n",
       "      <td>[142374/1539648124-93-815b6acc-1b65-4c4d-8ab9-...</td>\n",
       "      <td>[142374/18190/cropped/30870]</td>\n",
       "    </tr>\n",
       "  </tbody>\n",
       "</table>\n",
       "</div>"
      ],
      "text/plain": [
       "   line_item_id                                    original_photos  \\\n",
       "0         18186  [142372/1539646443-68-img-0299.jpg, 142372/153...   \n",
       "1         18187  [142372/1539647680-19-img-0299.jpg, 142372/153...   \n",
       "2         18188  [142373/1539648052-25-e4876618-3ddb-4da2-905a-...   \n",
       "3         18189  [142374/1539648041-56-d5fde5db-87c2-42b6-b06a-...   \n",
       "4         18190  [142374/1539648124-93-815b6acc-1b65-4c4d-8ab9-...   \n",
       "\n",
       "                              approved_cropped_heads  \n",
       "0  [142372/18186/cropped/30871, 142372/18186/crop...  \n",
       "1  [142372/18187/cropped/30875, 142372/18187/crop...  \n",
       "2                       [142373/18188/cropped/30865]  \n",
       "3                       [142374/18189/cropped/30869]  \n",
       "4                       [142374/18190/cropped/30870]  "
      ]
     },
     "execution_count": 44,
     "metadata": {},
     "output_type": "execute_result"
    }
   ],
   "source": [
    "df_nested_list.head()"
   ]
  },
  {
   "cell_type": "code",
   "execution_count": 45,
   "metadata": {},
   "outputs": [],
   "source": [
    "assert len(df_nested_list)== len(df_nested_list.line_item_id.unique() )"
   ]
  },
  {
   "cell_type": "code",
   "execution_count": 46,
   "metadata": {},
   "outputs": [
    {
     "data": {
      "text/plain": [
       "304431"
      ]
     },
     "execution_count": 46,
     "metadata": {},
     "output_type": "execute_result"
    }
   ],
   "source": [
    " len(df_nested_list)"
   ]
  },
  {
   "cell_type": "code",
   "execution_count": 47,
   "metadata": {},
   "outputs": [
    {
     "ename": "AssertionError",
     "evalue": "",
     "output_type": "error",
     "traceback": [
      "\u001b[0;31m---------------------------------------------------------------------------\u001b[0m",
      "\u001b[0;31mAssertionError\u001b[0m                            Traceback (most recent call last)",
      "\u001b[0;32m<ipython-input-47-29d1b447149c>\u001b[0m in \u001b[0;36m<module>\u001b[0;34m()\u001b[0m\n\u001b[0;32m----> 1\u001b[0;31m \u001b[0;32massert\u001b[0m \u001b[0mlen\u001b[0m\u001b[0;34m(\u001b[0m\u001b[0mgood\u001b[0m\u001b[0;34m)\u001b[0m\u001b[0;34m==\u001b[0m \u001b[0mlen\u001b[0m\u001b[0;34m(\u001b[0m\u001b[0mgood\u001b[0m\u001b[0;34m.\u001b[0m\u001b[0mline_item_id\u001b[0m\u001b[0;34m.\u001b[0m\u001b[0munique\u001b[0m\u001b[0;34m(\u001b[0m\u001b[0;34m)\u001b[0m \u001b[0;34m)\u001b[0m\u001b[0;34m\u001b[0m\u001b[0;34m\u001b[0m\u001b[0m\n\u001b[0m",
      "\u001b[0;31mAssertionError\u001b[0m: "
     ]
    }
   ],
   "source": [
    "assert len(good)== len(good.line_item_id.unique() )"
   ]
  },
  {
   "cell_type": "code",
   "execution_count": 48,
   "metadata": {},
   "outputs": [
    {
     "data": {
      "text/plain": [
       "2825"
      ]
     },
     "execution_count": 48,
     "metadata": {},
     "output_type": "execute_result"
    }
   ],
   "source": [
    " len(good)"
   ]
  },
  {
   "cell_type": "code",
   "execution_count": 49,
   "metadata": {},
   "outputs": [
    {
     "data": {
      "text/plain": [
       "2239"
      ]
     },
     "execution_count": 49,
     "metadata": {},
     "output_type": "execute_result"
    }
   ],
   "source": [
    "len(good.line_item_id.unique() )"
   ]
  },
  {
   "cell_type": "code",
   "execution_count": 50,
   "metadata": {},
   "outputs": [
    {
     "data": {
      "text/html": [
       "<div>\n",
       "<style scoped>\n",
       "    .dataframe tbody tr th:only-of-type {\n",
       "        vertical-align: middle;\n",
       "    }\n",
       "\n",
       "    .dataframe tbody tr th {\n",
       "        vertical-align: top;\n",
       "    }\n",
       "\n",
       "    .dataframe thead th {\n",
       "        text-align: right;\n",
       "    }\n",
       "</style>\n",
       "<table border=\"1\" class=\"dataframe\">\n",
       "  <thead>\n",
       "    <tr style=\"text-align: right;\">\n",
       "      <th></th>\n",
       "      <th>mask_of_subjects_face</th>\n",
       "      <th>order_id</th>\n",
       "      <th>line_item_id</th>\n",
       "      <th>mask_quality</th>\n",
       "      <th>subject_class</th>\n",
       "      <th>number_of_heads</th>\n",
       "    </tr>\n",
       "  </thead>\n",
       "  <tbody>\n",
       "    <tr>\n",
       "      <th>8</th>\n",
       "      <td>/refined_masks/mask_images3/mask_images2/14390...</td>\n",
       "      <td>20281</td>\n",
       "      <td>143906</td>\n",
       "      <td>good</td>\n",
       "      <td>dog</td>\n",
       "      <td>1</td>\n",
       "    </tr>\n",
       "    <tr>\n",
       "      <th>9</th>\n",
       "      <td>/refined_masks/mask_images3/mask_images2/14390...</td>\n",
       "      <td>20282</td>\n",
       "      <td>143906</td>\n",
       "      <td>good</td>\n",
       "      <td>dog</td>\n",
       "      <td>1</td>\n",
       "    </tr>\n",
       "    <tr>\n",
       "      <th>10</th>\n",
       "      <td>/refined_masks/mask_images3/mask_images2/14390...</td>\n",
       "      <td>20283</td>\n",
       "      <td>143906</td>\n",
       "      <td>good</td>\n",
       "      <td>cat</td>\n",
       "      <td>1</td>\n",
       "    </tr>\n",
       "    <tr>\n",
       "      <th>20</th>\n",
       "      <td>/refined_masks/mask_images3/mask_images2/14392...</td>\n",
       "      <td>20305</td>\n",
       "      <td>143922</td>\n",
       "      <td>good</td>\n",
       "      <td>dog</td>\n",
       "      <td>1</td>\n",
       "    </tr>\n",
       "    <tr>\n",
       "      <th>21</th>\n",
       "      <td>/refined_masks/mask_images3/mask_images2/14392...</td>\n",
       "      <td>20306</td>\n",
       "      <td>143922</td>\n",
       "      <td>good</td>\n",
       "      <td>dog</td>\n",
       "      <td>1</td>\n",
       "    </tr>\n",
       "    <tr>\n",
       "      <th>...</th>\n",
       "      <td>...</td>\n",
       "      <td>...</td>\n",
       "      <td>...</td>\n",
       "      <td>...</td>\n",
       "      <td>...</td>\n",
       "      <td>...</td>\n",
       "    </tr>\n",
       "    <tr>\n",
       "      <th>3915</th>\n",
       "      <td>/refined_masks/mask_images3/mask_images2/14960...</td>\n",
       "      <td>28272</td>\n",
       "      <td>149608</td>\n",
       "      <td>good</td>\n",
       "      <td>dog</td>\n",
       "      <td>1</td>\n",
       "    </tr>\n",
       "    <tr>\n",
       "      <th>3916</th>\n",
       "      <td>/refined_masks/mask_images3/mask_images2/14960...</td>\n",
       "      <td>28273</td>\n",
       "      <td>149608</td>\n",
       "      <td>good</td>\n",
       "      <td>dog</td>\n",
       "      <td>1</td>\n",
       "    </tr>\n",
       "    <tr>\n",
       "      <th>3917</th>\n",
       "      <td>/refined_masks/mask_images3/mask_images2/14960...</td>\n",
       "      <td>28274</td>\n",
       "      <td>149608</td>\n",
       "      <td>good</td>\n",
       "      <td>dog</td>\n",
       "      <td>1</td>\n",
       "    </tr>\n",
       "    <tr>\n",
       "      <th>3918</th>\n",
       "      <td>/refined_masks/mask_images3/mask_images2/14960...</td>\n",
       "      <td>28275</td>\n",
       "      <td>149609</td>\n",
       "      <td>good</td>\n",
       "      <td>dog</td>\n",
       "      <td>1</td>\n",
       "    </tr>\n",
       "    <tr>\n",
       "      <th>3919</th>\n",
       "      <td>/refined_masks/mask_images3/mask_images2/14960...</td>\n",
       "      <td>28276</td>\n",
       "      <td>149609</td>\n",
       "      <td>good</td>\n",
       "      <td>dog</td>\n",
       "      <td>1</td>\n",
       "    </tr>\n",
       "  </tbody>\n",
       "</table>\n",
       "<p>1001 rows × 6 columns</p>\n",
       "</div>"
      ],
      "text/plain": [
       "                                  mask_of_subjects_face  order_id  \\\n",
       "8     /refined_masks/mask_images3/mask_images2/14390...     20281   \n",
       "9     /refined_masks/mask_images3/mask_images2/14390...     20282   \n",
       "10    /refined_masks/mask_images3/mask_images2/14390...     20283   \n",
       "20    /refined_masks/mask_images3/mask_images2/14392...     20305   \n",
       "21    /refined_masks/mask_images3/mask_images2/14392...     20306   \n",
       "...                                                 ...       ...   \n",
       "3915  /refined_masks/mask_images3/mask_images2/14960...     28272   \n",
       "3916  /refined_masks/mask_images3/mask_images2/14960...     28273   \n",
       "3917  /refined_masks/mask_images3/mask_images2/14960...     28274   \n",
       "3918  /refined_masks/mask_images3/mask_images2/14960...     28275   \n",
       "3919  /refined_masks/mask_images3/mask_images2/14960...     28276   \n",
       "\n",
       "      line_item_id mask_quality subject_class  number_of_heads  \n",
       "8           143906         good           dog                1  \n",
       "9           143906         good           dog                1  \n",
       "10          143906         good           cat                1  \n",
       "20          143922         good           dog                1  \n",
       "21          143922         good           dog                1  \n",
       "...            ...          ...           ...              ...  \n",
       "3915        149608         good           dog                1  \n",
       "3916        149608         good           dog                1  \n",
       "3917        149608         good           dog                1  \n",
       "3918        149609         good           dog                1  \n",
       "3919        149609         good           dog                1  \n",
       "\n",
       "[1001 rows x 6 columns]"
      ]
     },
     "execution_count": 50,
     "metadata": {},
     "output_type": "execute_result"
    }
   ],
   "source": [
    "good[good.duplicated(['line_item_id'], keep=False)]"
   ]
  },
  {
   "cell_type": "markdown",
   "metadata": {},
   "source": [
    "I want to remove those terms that have more than one entry"
   ]
  },
  {
   "cell_type": "code",
   "execution_count": 51,
   "metadata": {},
   "outputs": [],
   "source": [
    "new_table =pd.concat(g for _, g in good.groupby('line_item_id') if len(g) == 1)"
   ]
  },
  {
   "cell_type": "code",
   "execution_count": 52,
   "metadata": {},
   "outputs": [
    {
     "data": {
      "text/plain": [
       "1824"
      ]
     },
     "execution_count": 52,
     "metadata": {},
     "output_type": "execute_result"
    }
   ],
   "source": [
    "len(new_table)"
   ]
  },
  {
   "cell_type": "markdown",
   "metadata": {},
   "source": [
    "This are the initial images to run experiments, they are already aligned, with a perfect label, and ready to be used."
   ]
  },
  {
   "cell_type": "code",
   "execution_count": 54,
   "metadata": {},
   "outputs": [],
   "source": [
    "joined = pd.merge(df_nested_list,new_table, on='line_item_id')"
   ]
  },
  {
   "cell_type": "code",
   "execution_count": 55,
   "metadata": {},
   "outputs": [
    {
     "data": {
      "text/plain": [
       "1795"
      ]
     },
     "execution_count": 55,
     "metadata": {},
     "output_type": "execute_result"
    }
   ],
   "source": [
    "len(joined)"
   ]
  },
  {
   "cell_type": "code",
   "execution_count": 56,
   "metadata": {},
   "outputs": [
    {
     "data": {
      "text/html": [
       "<div>\n",
       "<style scoped>\n",
       "    .dataframe tbody tr th:only-of-type {\n",
       "        vertical-align: middle;\n",
       "    }\n",
       "\n",
       "    .dataframe tbody tr th {\n",
       "        vertical-align: top;\n",
       "    }\n",
       "\n",
       "    .dataframe thead th {\n",
       "        text-align: right;\n",
       "    }\n",
       "</style>\n",
       "<table border=\"1\" class=\"dataframe\">\n",
       "  <thead>\n",
       "    <tr style=\"text-align: right;\">\n",
       "      <th></th>\n",
       "      <th>line_item_id</th>\n",
       "      <th>order_id</th>\n",
       "      <th>number_of_heads</th>\n",
       "    </tr>\n",
       "  </thead>\n",
       "  <tbody>\n",
       "    <tr>\n",
       "      <th>count</th>\n",
       "      <td>1795.000000</td>\n",
       "      <td>1795.000000</td>\n",
       "      <td>1795.000000</td>\n",
       "    </tr>\n",
       "    <tr>\n",
       "      <th>mean</th>\n",
       "      <td>146722.295265</td>\n",
       "      <td>24161.810028</td>\n",
       "      <td>1.018384</td>\n",
       "    </tr>\n",
       "    <tr>\n",
       "      <th>std</th>\n",
       "      <td>1664.364038</td>\n",
       "      <td>2398.358989</td>\n",
       "      <td>0.157307</td>\n",
       "    </tr>\n",
       "    <tr>\n",
       "      <th>min</th>\n",
       "      <td>143893.000000</td>\n",
       "      <td>20263.000000</td>\n",
       "      <td>0.000000</td>\n",
       "    </tr>\n",
       "    <tr>\n",
       "      <th>25%</th>\n",
       "      <td>145281.500000</td>\n",
       "      <td>22144.000000</td>\n",
       "      <td>1.000000</td>\n",
       "    </tr>\n",
       "    <tr>\n",
       "      <th>50%</th>\n",
       "      <td>146715.000000</td>\n",
       "      <td>24122.000000</td>\n",
       "      <td>1.000000</td>\n",
       "    </tr>\n",
       "    <tr>\n",
       "      <th>75%</th>\n",
       "      <td>148178.000000</td>\n",
       "      <td>26158.000000</td>\n",
       "      <td>1.000000</td>\n",
       "    </tr>\n",
       "    <tr>\n",
       "      <th>max</th>\n",
       "      <td>149631.000000</td>\n",
       "      <td>42819.000000</td>\n",
       "      <td>3.000000</td>\n",
       "    </tr>\n",
       "  </tbody>\n",
       "</table>\n",
       "</div>"
      ],
      "text/plain": [
       "        line_item_id      order_id  number_of_heads\n",
       "count    1795.000000   1795.000000      1795.000000\n",
       "mean   146722.295265  24161.810028         1.018384\n",
       "std      1664.364038   2398.358989         0.157307\n",
       "min    143893.000000  20263.000000         0.000000\n",
       "25%    145281.500000  22144.000000         1.000000\n",
       "50%    146715.000000  24122.000000         1.000000\n",
       "75%    148178.000000  26158.000000         1.000000\n",
       "max    149631.000000  42819.000000         3.000000"
      ]
     },
     "execution_count": 56,
     "metadata": {},
     "output_type": "execute_result"
    }
   ],
   "source": [
    "joined.describe()"
   ]
  },
  {
   "cell_type": "code",
   "execution_count": 57,
   "metadata": {},
   "outputs": [
    {
     "data": {
      "text/html": [
       "<div>\n",
       "<style scoped>\n",
       "    .dataframe tbody tr th:only-of-type {\n",
       "        vertical-align: middle;\n",
       "    }\n",
       "\n",
       "    .dataframe tbody tr th {\n",
       "        vertical-align: top;\n",
       "    }\n",
       "\n",
       "    .dataframe thead th {\n",
       "        text-align: right;\n",
       "    }\n",
       "</style>\n",
       "<table border=\"1\" class=\"dataframe\">\n",
       "  <thead>\n",
       "    <tr style=\"text-align: right;\">\n",
       "      <th></th>\n",
       "      <th>line_item_id</th>\n",
       "      <th>original_photos</th>\n",
       "      <th>approved_cropped_heads</th>\n",
       "      <th>mask_of_subjects_face</th>\n",
       "      <th>order_id</th>\n",
       "      <th>mask_quality</th>\n",
       "      <th>subject_class</th>\n",
       "      <th>number_of_heads</th>\n",
       "    </tr>\n",
       "  </thead>\n",
       "  <tbody>\n",
       "    <tr>\n",
       "      <th>0</th>\n",
       "      <td>146351</td>\n",
       "      <td>[170972/1542721060-91-patches-chain.jpg]</td>\n",
       "      <td>[170972/146351/cropped/350398]</td>\n",
       "      <td>/refined_masks/mask_images3/mask_images2/14635...</td>\n",
       "      <td>23619</td>\n",
       "      <td>good</td>\n",
       "      <td>human</td>\n",
       "      <td>1</td>\n",
       "    </tr>\n",
       "    <tr>\n",
       "      <th>1</th>\n",
       "      <td>143893</td>\n",
       "      <td>[235511/1547332561-50-20190107-194519.jpg]</td>\n",
       "      <td>[235511/143893/cropped/259883]</td>\n",
       "      <td>/refined_masks/mask_images3/mask_images2/14389...</td>\n",
       "      <td>20263</td>\n",
       "      <td>good</td>\n",
       "      <td>dog</td>\n",
       "      <td>1</td>\n",
       "    </tr>\n",
       "    <tr>\n",
       "      <th>2</th>\n",
       "      <td>143896</td>\n",
       "      <td>[235514/1547332856-99-71c10db1-2c86-491e-9ccd-...</td>\n",
       "      <td>[235514/143896/cropped/258606]</td>\n",
       "      <td>/refined_masks/mask_images3/mask_images2/14389...</td>\n",
       "      <td>20268</td>\n",
       "      <td>good</td>\n",
       "      <td>dog</td>\n",
       "      <td>1</td>\n",
       "    </tr>\n",
       "    <tr>\n",
       "      <th>3</th>\n",
       "      <td>143900</td>\n",
       "      <td>[235517/1547332808-63-9c1cce09-3889-499e-ae12-...</td>\n",
       "      <td>[235517/143900/cropped/259885]</td>\n",
       "      <td>/refined_masks/mask_images3/mask_images2/14390...</td>\n",
       "      <td>20273</td>\n",
       "      <td>good</td>\n",
       "      <td>cat</td>\n",
       "      <td>1</td>\n",
       "    </tr>\n",
       "    <tr>\n",
       "      <th>4</th>\n",
       "      <td>143902</td>\n",
       "      <td>[235519/1547333284-1-2706910a-e8d1-4dde-8faf-5...</td>\n",
       "      <td>[235519/143902/cropped/258610]</td>\n",
       "      <td>/refined_masks/mask_images3/mask_images2/14390...</td>\n",
       "      <td>20275</td>\n",
       "      <td>good</td>\n",
       "      <td>human</td>\n",
       "      <td>1</td>\n",
       "    </tr>\n",
       "  </tbody>\n",
       "</table>\n",
       "</div>"
      ],
      "text/plain": [
       "   line_item_id                                    original_photos  \\\n",
       "0        146351           [170972/1542721060-91-patches-chain.jpg]   \n",
       "1        143893         [235511/1547332561-50-20190107-194519.jpg]   \n",
       "2        143896  [235514/1547332856-99-71c10db1-2c86-491e-9ccd-...   \n",
       "3        143900  [235517/1547332808-63-9c1cce09-3889-499e-ae12-...   \n",
       "4        143902  [235519/1547333284-1-2706910a-e8d1-4dde-8faf-5...   \n",
       "\n",
       "           approved_cropped_heads  \\\n",
       "0  [170972/146351/cropped/350398]   \n",
       "1  [235511/143893/cropped/259883]   \n",
       "2  [235514/143896/cropped/258606]   \n",
       "3  [235517/143900/cropped/259885]   \n",
       "4  [235519/143902/cropped/258610]   \n",
       "\n",
       "                               mask_of_subjects_face  order_id mask_quality  \\\n",
       "0  /refined_masks/mask_images3/mask_images2/14635...     23619         good   \n",
       "1  /refined_masks/mask_images3/mask_images2/14389...     20263         good   \n",
       "2  /refined_masks/mask_images3/mask_images2/14389...     20268         good   \n",
       "3  /refined_masks/mask_images3/mask_images2/14390...     20273         good   \n",
       "4  /refined_masks/mask_images3/mask_images2/14390...     20275         good   \n",
       "\n",
       "  subject_class  number_of_heads  \n",
       "0         human                1  \n",
       "1           dog                1  \n",
       "2           dog                1  \n",
       "3           cat                1  \n",
       "4         human                1  "
      ]
     },
     "execution_count": 57,
     "metadata": {},
     "output_type": "execute_result"
    }
   ],
   "source": [
    "joined.head()"
   ]
  },
  {
   "cell_type": "code",
   "execution_count": 58,
   "metadata": {},
   "outputs": [],
   "source": [
    "joined.to_csv('dataset.csv')"
   ]
  },
  {
   "cell_type": "code",
   "execution_count": null,
   "metadata": {},
   "outputs": [],
   "source": []
  }
 ],
 "metadata": {
  "kernelspec": {
   "display_name": "Python 3",
   "language": "python",
   "name": "python3"
  },
  "language_info": {
   "codemirror_mode": {
    "name": "ipython",
    "version": 3
   },
   "file_extension": ".py",
   "mimetype": "text/x-python",
   "name": "python",
   "nbconvert_exporter": "python",
   "pygments_lexer": "ipython3",
   "version": "3.6.11"
  }
 },
 "nbformat": 4,
 "nbformat_minor": 4
}
